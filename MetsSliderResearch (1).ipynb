{
 "cells": [
  {
   "cell_type": "markdown",
   "id": "240be635",
   "metadata": {},
   "source": [
    "#### Slider Research\n",
    "- This code creates a scatter plot that displays the pfx_x and pfx_z of Kodai Senga, Adam Ottavino, and Brooks Raley"
   ]
  },
  {
   "cell_type": "code",
   "execution_count": null,
   "id": "145846c1",
   "metadata": {},
   "outputs": [],
   "source": [
    "#Importing the Necessary Package & dataset\n",
    "import pandas as pd \n",
    "sliders = pd.read_csv(\"slidermovement.csv\")"
   ]
  },
  {
   "cell_type": "code",
   "execution_count": 2,
   "id": "b1c57d8b",
   "metadata": {},
   "outputs": [
    {
     "data": {
      "text/html": [
       "<div>\n",
       "<style scoped>\n",
       "    .dataframe tbody tr th:only-of-type {\n",
       "        vertical-align: middle;\n",
       "    }\n",
       "\n",
       "    .dataframe tbody tr th {\n",
       "        vertical-align: top;\n",
       "    }\n",
       "\n",
       "    .dataframe thead th {\n",
       "        text-align: right;\n",
       "    }\n",
       "</style>\n",
       "<table border=\"1\" class=\"dataframe\">\n",
       "  <thead>\n",
       "    <tr style=\"text-align: right;\">\n",
       "      <th></th>\n",
       "      <th>pitch_type</th>\n",
       "      <th>game_date</th>\n",
       "      <th>release_speed</th>\n",
       "      <th>release_pos_x</th>\n",
       "      <th>release_pos_z</th>\n",
       "      <th>player_name</th>\n",
       "      <th>batter</th>\n",
       "      <th>pitcher</th>\n",
       "      <th>events</th>\n",
       "      <th>description</th>\n",
       "      <th>...</th>\n",
       "      <th>fld_score</th>\n",
       "      <th>post_away_score</th>\n",
       "      <th>post_home_score</th>\n",
       "      <th>post_bat_score</th>\n",
       "      <th>post_fld_score</th>\n",
       "      <th>if_fielding_alignment</th>\n",
       "      <th>of_fielding_alignment</th>\n",
       "      <th>spin_axis</th>\n",
       "      <th>delta_home_win_exp</th>\n",
       "      <th>delta_run_exp</th>\n",
       "    </tr>\n",
       "  </thead>\n",
       "  <tbody>\n",
       "    <tr>\n",
       "      <th>0</th>\n",
       "      <td>ST</td>\n",
       "      <td>4/15/23</td>\n",
       "      <td>81.3</td>\n",
       "      <td>-2.81</td>\n",
       "      <td>5.28</td>\n",
       "      <td>Ottavino, Adam</td>\n",
       "      <td>668843</td>\n",
       "      <td>493603</td>\n",
       "      <td>strikeout</td>\n",
       "      <td>swinging_strike</td>\n",
       "      <td>...</td>\n",
       "      <td>3</td>\n",
       "      <td>3</td>\n",
       "      <td>2</td>\n",
       "      <td>2</td>\n",
       "      <td>3</td>\n",
       "      <td>Strategic</td>\n",
       "      <td>Standard</td>\n",
       "      <td>72</td>\n",
       "      <td>-0.168</td>\n",
       "      <td>-0.628</td>\n",
       "    </tr>\n",
       "    <tr>\n",
       "      <th>1</th>\n",
       "      <td>ST</td>\n",
       "      <td>4/15/23</td>\n",
       "      <td>79.1</td>\n",
       "      <td>-2.78</td>\n",
       "      <td>5.37</td>\n",
       "      <td>Ottavino, Adam</td>\n",
       "      <td>668843</td>\n",
       "      <td>493603</td>\n",
       "      <td>NaN</td>\n",
       "      <td>blocked_ball</td>\n",
       "      <td>...</td>\n",
       "      <td>3</td>\n",
       "      <td>3</td>\n",
       "      <td>2</td>\n",
       "      <td>2</td>\n",
       "      <td>3</td>\n",
       "      <td>Standard</td>\n",
       "      <td>Standard</td>\n",
       "      <td>63</td>\n",
       "      <td>0.028</td>\n",
       "      <td>-0.048</td>\n",
       "    </tr>\n",
       "    <tr>\n",
       "      <th>2</th>\n",
       "      <td>ST</td>\n",
       "      <td>4/15/23</td>\n",
       "      <td>79.6</td>\n",
       "      <td>-2.86</td>\n",
       "      <td>5.33</td>\n",
       "      <td>Ottavino, Adam</td>\n",
       "      <td>668843</td>\n",
       "      <td>493603</td>\n",
       "      <td>NaN</td>\n",
       "      <td>foul</td>\n",
       "      <td>...</td>\n",
       "      <td>3</td>\n",
       "      <td>3</td>\n",
       "      <td>2</td>\n",
       "      <td>2</td>\n",
       "      <td>3</td>\n",
       "      <td>Standard</td>\n",
       "      <td>Standard</td>\n",
       "      <td>65</td>\n",
       "      <td>0.000</td>\n",
       "      <td>-0.089</td>\n",
       "    </tr>\n",
       "    <tr>\n",
       "      <th>3</th>\n",
       "      <td>ST</td>\n",
       "      <td>4/15/23</td>\n",
       "      <td>78.2</td>\n",
       "      <td>-3.03</td>\n",
       "      <td>5.41</td>\n",
       "      <td>Ottavino, Adam</td>\n",
       "      <td>668843</td>\n",
       "      <td>493603</td>\n",
       "      <td>NaN</td>\n",
       "      <td>called_strike</td>\n",
       "      <td>...</td>\n",
       "      <td>3</td>\n",
       "      <td>3</td>\n",
       "      <td>2</td>\n",
       "      <td>2</td>\n",
       "      <td>3</td>\n",
       "      <td>Standard</td>\n",
       "      <td>Standard</td>\n",
       "      <td>65</td>\n",
       "      <td>0.000</td>\n",
       "      <td>-0.067</td>\n",
       "    </tr>\n",
       "    <tr>\n",
       "      <th>4</th>\n",
       "      <td>ST</td>\n",
       "      <td>4/15/23</td>\n",
       "      <td>81.4</td>\n",
       "      <td>-2.89</td>\n",
       "      <td>5.24</td>\n",
       "      <td>Ottavino, Adam</td>\n",
       "      <td>649557</td>\n",
       "      <td>493603</td>\n",
       "      <td>field_out</td>\n",
       "      <td>hit_into_play</td>\n",
       "      <td>...</td>\n",
       "      <td>3</td>\n",
       "      <td>3</td>\n",
       "      <td>2</td>\n",
       "      <td>2</td>\n",
       "      <td>3</td>\n",
       "      <td>Standard</td>\n",
       "      <td>Standard</td>\n",
       "      <td>68</td>\n",
       "      <td>-0.097</td>\n",
       "      <td>-0.262</td>\n",
       "    </tr>\n",
       "  </tbody>\n",
       "</table>\n",
       "<p>5 rows × 92 columns</p>\n",
       "</div>"
      ],
      "text/plain": [
       "  pitch_type game_date  release_speed  release_pos_x  release_pos_z  \\\n",
       "0         ST   4/15/23           81.3          -2.81           5.28   \n",
       "1         ST   4/15/23           79.1          -2.78           5.37   \n",
       "2         ST   4/15/23           79.6          -2.86           5.33   \n",
       "3         ST   4/15/23           78.2          -3.03           5.41   \n",
       "4         ST   4/15/23           81.4          -2.89           5.24   \n",
       "\n",
       "      player_name  batter  pitcher     events      description  ...  \\\n",
       "0  Ottavino, Adam  668843   493603  strikeout  swinging_strike  ...   \n",
       "1  Ottavino, Adam  668843   493603        NaN     blocked_ball  ...   \n",
       "2  Ottavino, Adam  668843   493603        NaN             foul  ...   \n",
       "3  Ottavino, Adam  668843   493603        NaN    called_strike  ...   \n",
       "4  Ottavino, Adam  649557   493603  field_out    hit_into_play  ...   \n",
       "\n",
       "   fld_score  post_away_score  post_home_score  post_bat_score  \\\n",
       "0          3                3                2               2   \n",
       "1          3                3                2               2   \n",
       "2          3                3                2               2   \n",
       "3          3                3                2               2   \n",
       "4          3                3                2               2   \n",
       "\n",
       "   post_fld_score if_fielding_alignment of_fielding_alignment spin_axis  \\\n",
       "0               3             Strategic              Standard        72   \n",
       "1               3              Standard              Standard        63   \n",
       "2               3              Standard              Standard        65   \n",
       "3               3              Standard              Standard        65   \n",
       "4               3              Standard              Standard        68   \n",
       "\n",
       "  delta_home_win_exp delta_run_exp  \n",
       "0             -0.168        -0.628  \n",
       "1              0.028        -0.048  \n",
       "2              0.000        -0.089  \n",
       "3              0.000        -0.067  \n",
       "4             -0.097        -0.262  \n",
       "\n",
       "[5 rows x 92 columns]"
      ]
     },
     "execution_count": 2,
     "metadata": {},
     "output_type": "execute_result"
    }
   ],
   "source": [
    "\n",
    "sliders.head()"
   ]
  },
  {
   "cell_type": "code",
   "execution_count": 5,
   "id": "134220b5",
   "metadata": {},
   "outputs": [
    {
     "data": {
      "application/vnd.plotly.v1+json": {
       "config": {
        "plotlyServerURL": "https://plotly.com"
       },
       "data": [
        {
         "marker": {
          "color": "DarkOrange"
         },
         "mode": "markers",
         "type": "scatter",
         "x": [
          1.64,
          1.6,
          1.69,
          1.82,
          1.52,
          0.99,
          1.33,
          1.04,
          1.35,
          1.62,
          1.43,
          0.92,
          1.13,
          0.84,
          0.87,
          1.59,
          1.47,
          1.52,
          1.46,
          1.16,
          1.56,
          1.16,
          0.93,
          1.59,
          1.63,
          1.8,
          1.36,
          1.5,
          1.61,
          1.25,
          1.31,
          1.54,
          1.22
         ],
         "y": [
          0.31,
          -0.38,
          0.4,
          0.11,
          0.01,
          -0.22,
          0.44,
          0.07,
          0.25,
          0.68,
          0.07,
          0.19,
          0.47,
          0.24,
          0.15,
          0.18,
          0.27,
          -0.01,
          0.45,
          0.22,
          0.58,
          0.02,
          -0.11,
          0.2,
          0.54,
          0.24,
          0.3,
          0.26,
          0.14,
          -0.05,
          0.13,
          0.59,
          0.21
         ]
        },
        {
         "marker": {
          "color": "Crimson"
         },
         "mode": "markers",
         "type": "scatter",
         "x": [
          -1.75,
          -1.85,
          -1.28,
          -1.34,
          -1.56,
          -1.32,
          -1.77,
          -1.53,
          -1.32,
          -1.16,
          -1.46,
          -1.37,
          -1.27,
          -1.62,
          -1.59,
          -1.84,
          -1.47,
          -1.53,
          -1.52,
          -1.51,
          -1.55,
          -1.11,
          -1.47,
          -1.03,
          -1.23,
          -1.66,
          -1.32,
          -1.43,
          -1.06,
          -1.47,
          -1.8,
          -1.76,
          -1.92,
          -1.36
         ],
         "y": [
          0.75,
          -0.03,
          0.11,
          0.25,
          0.13,
          0.17,
          0.39,
          -0.26,
          -0.05,
          0.35,
          0.15,
          0.28,
          0.33,
          -0.22,
          0.2,
          0.3,
          0.24,
          -0.16,
          0.47,
          0.01,
          0.48,
          0.1,
          -0.15,
          0.43,
          0.33,
          0.04,
          0.26,
          0.32,
          0.56,
          0.33,
          0.4,
          0.39,
          0.26,
          0.21
         ]
        },
        {
         "marker": {
          "color": "Blue"
         },
         "mode": "markers",
         "type": "scatter",
         "x": [
          0.94,
          0.82,
          1.36,
          0.97,
          1.22,
          1.23,
          0.99,
          0.94,
          0.81,
          1.05,
          1.07,
          1.28,
          1.31,
          0.94,
          1.19,
          0.85,
          0.81,
          0.99,
          1.4,
          1.33,
          1.31,
          1.14,
          1.36,
          1.36,
          1.45,
          1.32,
          1.3,
          0.66,
          1.57,
          0.88,
          1.49,
          0.9,
          1.01,
          1.38,
          1.5,
          1.08,
          1.07,
          1.47,
          0.47,
          1.28,
          0.76,
          0.82,
          1.45,
          0.95,
          1.52,
          1.46,
          1.3,
          1.48,
          1.4,
          1.3,
          1.36,
          1.4,
          1.19,
          1.07
         ],
         "y": [
          -0.06,
          -0.09,
          0.15,
          0.21,
          -0.12,
          0.06,
          0.09,
          0.34,
          0.28,
          -0.24,
          -0.32,
          -0.34,
          -0.27,
          -0.11,
          -0.22,
          0.09,
          0.21,
          -0.57,
          -0.09,
          -0.06,
          -0.14,
          0.11,
          -0.58,
          -0.23,
          -0.28,
          -0.17,
          0.1,
          -0.43,
          0.12,
          -0.07,
          -0.1,
          0.14,
          -0.09,
          -0.21,
          -0.24,
          -0.15,
          0.14,
          -0.22,
          -0.07,
          -0.05,
          -0.25,
          -0.28,
          -0.37,
          -0.45,
          -0.32,
          -0.08,
          -0.26,
          -0.41,
          -0.17,
          -0.09,
          -0.13,
          -0.52,
          -0.56,
          -0.37
         ]
        }
       ],
       "layout": {
        "showlegend": false,
        "template": {
         "data": {
          "bar": [
           {
            "error_x": {
             "color": "#2a3f5f"
            },
            "error_y": {
             "color": "#2a3f5f"
            },
            "marker": {
             "line": {
              "color": "#E5ECF6",
              "width": 0.5
             },
             "pattern": {
              "fillmode": "overlay",
              "size": 10,
              "solidity": 0.2
             }
            },
            "type": "bar"
           }
          ],
          "barpolar": [
           {
            "marker": {
             "line": {
              "color": "#E5ECF6",
              "width": 0.5
             },
             "pattern": {
              "fillmode": "overlay",
              "size": 10,
              "solidity": 0.2
             }
            },
            "type": "barpolar"
           }
          ],
          "carpet": [
           {
            "aaxis": {
             "endlinecolor": "#2a3f5f",
             "gridcolor": "white",
             "linecolor": "white",
             "minorgridcolor": "white",
             "startlinecolor": "#2a3f5f"
            },
            "baxis": {
             "endlinecolor": "#2a3f5f",
             "gridcolor": "white",
             "linecolor": "white",
             "minorgridcolor": "white",
             "startlinecolor": "#2a3f5f"
            },
            "type": "carpet"
           }
          ],
          "choropleth": [
           {
            "colorbar": {
             "outlinewidth": 0,
             "ticks": ""
            },
            "type": "choropleth"
           }
          ],
          "contour": [
           {
            "colorbar": {
             "outlinewidth": 0,
             "ticks": ""
            },
            "colorscale": [
             [
              0,
              "#0d0887"
             ],
             [
              0.1111111111111111,
              "#46039f"
             ],
             [
              0.2222222222222222,
              "#7201a8"
             ],
             [
              0.3333333333333333,
              "#9c179e"
             ],
             [
              0.4444444444444444,
              "#bd3786"
             ],
             [
              0.5555555555555556,
              "#d8576b"
             ],
             [
              0.6666666666666666,
              "#ed7953"
             ],
             [
              0.7777777777777778,
              "#fb9f3a"
             ],
             [
              0.8888888888888888,
              "#fdca26"
             ],
             [
              1,
              "#f0f921"
             ]
            ],
            "type": "contour"
           }
          ],
          "contourcarpet": [
           {
            "colorbar": {
             "outlinewidth": 0,
             "ticks": ""
            },
            "type": "contourcarpet"
           }
          ],
          "heatmap": [
           {
            "colorbar": {
             "outlinewidth": 0,
             "ticks": ""
            },
            "colorscale": [
             [
              0,
              "#0d0887"
             ],
             [
              0.1111111111111111,
              "#46039f"
             ],
             [
              0.2222222222222222,
              "#7201a8"
             ],
             [
              0.3333333333333333,
              "#9c179e"
             ],
             [
              0.4444444444444444,
              "#bd3786"
             ],
             [
              0.5555555555555556,
              "#d8576b"
             ],
             [
              0.6666666666666666,
              "#ed7953"
             ],
             [
              0.7777777777777778,
              "#fb9f3a"
             ],
             [
              0.8888888888888888,
              "#fdca26"
             ],
             [
              1,
              "#f0f921"
             ]
            ],
            "type": "heatmap"
           }
          ],
          "heatmapgl": [
           {
            "colorbar": {
             "outlinewidth": 0,
             "ticks": ""
            },
            "colorscale": [
             [
              0,
              "#0d0887"
             ],
             [
              0.1111111111111111,
              "#46039f"
             ],
             [
              0.2222222222222222,
              "#7201a8"
             ],
             [
              0.3333333333333333,
              "#9c179e"
             ],
             [
              0.4444444444444444,
              "#bd3786"
             ],
             [
              0.5555555555555556,
              "#d8576b"
             ],
             [
              0.6666666666666666,
              "#ed7953"
             ],
             [
              0.7777777777777778,
              "#fb9f3a"
             ],
             [
              0.8888888888888888,
              "#fdca26"
             ],
             [
              1,
              "#f0f921"
             ]
            ],
            "type": "heatmapgl"
           }
          ],
          "histogram": [
           {
            "marker": {
             "pattern": {
              "fillmode": "overlay",
              "size": 10,
              "solidity": 0.2
             }
            },
            "type": "histogram"
           }
          ],
          "histogram2d": [
           {
            "colorbar": {
             "outlinewidth": 0,
             "ticks": ""
            },
            "colorscale": [
             [
              0,
              "#0d0887"
             ],
             [
              0.1111111111111111,
              "#46039f"
             ],
             [
              0.2222222222222222,
              "#7201a8"
             ],
             [
              0.3333333333333333,
              "#9c179e"
             ],
             [
              0.4444444444444444,
              "#bd3786"
             ],
             [
              0.5555555555555556,
              "#d8576b"
             ],
             [
              0.6666666666666666,
              "#ed7953"
             ],
             [
              0.7777777777777778,
              "#fb9f3a"
             ],
             [
              0.8888888888888888,
              "#fdca26"
             ],
             [
              1,
              "#f0f921"
             ]
            ],
            "type": "histogram2d"
           }
          ],
          "histogram2dcontour": [
           {
            "colorbar": {
             "outlinewidth": 0,
             "ticks": ""
            },
            "colorscale": [
             [
              0,
              "#0d0887"
             ],
             [
              0.1111111111111111,
              "#46039f"
             ],
             [
              0.2222222222222222,
              "#7201a8"
             ],
             [
              0.3333333333333333,
              "#9c179e"
             ],
             [
              0.4444444444444444,
              "#bd3786"
             ],
             [
              0.5555555555555556,
              "#d8576b"
             ],
             [
              0.6666666666666666,
              "#ed7953"
             ],
             [
              0.7777777777777778,
              "#fb9f3a"
             ],
             [
              0.8888888888888888,
              "#fdca26"
             ],
             [
              1,
              "#f0f921"
             ]
            ],
            "type": "histogram2dcontour"
           }
          ],
          "mesh3d": [
           {
            "colorbar": {
             "outlinewidth": 0,
             "ticks": ""
            },
            "type": "mesh3d"
           }
          ],
          "parcoords": [
           {
            "line": {
             "colorbar": {
              "outlinewidth": 0,
              "ticks": ""
             }
            },
            "type": "parcoords"
           }
          ],
          "pie": [
           {
            "automargin": true,
            "type": "pie"
           }
          ],
          "scatter": [
           {
            "fillpattern": {
             "fillmode": "overlay",
             "size": 10,
             "solidity": 0.2
            },
            "type": "scatter"
           }
          ],
          "scatter3d": [
           {
            "line": {
             "colorbar": {
              "outlinewidth": 0,
              "ticks": ""
             }
            },
            "marker": {
             "colorbar": {
              "outlinewidth": 0,
              "ticks": ""
             }
            },
            "type": "scatter3d"
           }
          ],
          "scattercarpet": [
           {
            "marker": {
             "colorbar": {
              "outlinewidth": 0,
              "ticks": ""
             }
            },
            "type": "scattercarpet"
           }
          ],
          "scattergeo": [
           {
            "marker": {
             "colorbar": {
              "outlinewidth": 0,
              "ticks": ""
             }
            },
            "type": "scattergeo"
           }
          ],
          "scattergl": [
           {
            "marker": {
             "colorbar": {
              "outlinewidth": 0,
              "ticks": ""
             }
            },
            "type": "scattergl"
           }
          ],
          "scattermapbox": [
           {
            "marker": {
             "colorbar": {
              "outlinewidth": 0,
              "ticks": ""
             }
            },
            "type": "scattermapbox"
           }
          ],
          "scatterpolar": [
           {
            "marker": {
             "colorbar": {
              "outlinewidth": 0,
              "ticks": ""
             }
            },
            "type": "scatterpolar"
           }
          ],
          "scatterpolargl": [
           {
            "marker": {
             "colorbar": {
              "outlinewidth": 0,
              "ticks": ""
             }
            },
            "type": "scatterpolargl"
           }
          ],
          "scatterternary": [
           {
            "marker": {
             "colorbar": {
              "outlinewidth": 0,
              "ticks": ""
             }
            },
            "type": "scatterternary"
           }
          ],
          "surface": [
           {
            "colorbar": {
             "outlinewidth": 0,
             "ticks": ""
            },
            "colorscale": [
             [
              0,
              "#0d0887"
             ],
             [
              0.1111111111111111,
              "#46039f"
             ],
             [
              0.2222222222222222,
              "#7201a8"
             ],
             [
              0.3333333333333333,
              "#9c179e"
             ],
             [
              0.4444444444444444,
              "#bd3786"
             ],
             [
              0.5555555555555556,
              "#d8576b"
             ],
             [
              0.6666666666666666,
              "#ed7953"
             ],
             [
              0.7777777777777778,
              "#fb9f3a"
             ],
             [
              0.8888888888888888,
              "#fdca26"
             ],
             [
              1,
              "#f0f921"
             ]
            ],
            "type": "surface"
           }
          ],
          "table": [
           {
            "cells": {
             "fill": {
              "color": "#EBF0F8"
             },
             "line": {
              "color": "white"
             }
            },
            "header": {
             "fill": {
              "color": "#C8D4E3"
             },
             "line": {
              "color": "white"
             }
            },
            "type": "table"
           }
          ]
         },
         "layout": {
          "annotationdefaults": {
           "arrowcolor": "#2a3f5f",
           "arrowhead": 0,
           "arrowwidth": 1
          },
          "autotypenumbers": "strict",
          "coloraxis": {
           "colorbar": {
            "outlinewidth": 0,
            "ticks": ""
           }
          },
          "colorscale": {
           "diverging": [
            [
             0,
             "#8e0152"
            ],
            [
             0.1,
             "#c51b7d"
            ],
            [
             0.2,
             "#de77ae"
            ],
            [
             0.3,
             "#f1b6da"
            ],
            [
             0.4,
             "#fde0ef"
            ],
            [
             0.5,
             "#f7f7f7"
            ],
            [
             0.6,
             "#e6f5d0"
            ],
            [
             0.7,
             "#b8e186"
            ],
            [
             0.8,
             "#7fbc41"
            ],
            [
             0.9,
             "#4d9221"
            ],
            [
             1,
             "#276419"
            ]
           ],
           "sequential": [
            [
             0,
             "#0d0887"
            ],
            [
             0.1111111111111111,
             "#46039f"
            ],
            [
             0.2222222222222222,
             "#7201a8"
            ],
            [
             0.3333333333333333,
             "#9c179e"
            ],
            [
             0.4444444444444444,
             "#bd3786"
            ],
            [
             0.5555555555555556,
             "#d8576b"
            ],
            [
             0.6666666666666666,
             "#ed7953"
            ],
            [
             0.7777777777777778,
             "#fb9f3a"
            ],
            [
             0.8888888888888888,
             "#fdca26"
            ],
            [
             1,
             "#f0f921"
            ]
           ],
           "sequentialminus": [
            [
             0,
             "#0d0887"
            ],
            [
             0.1111111111111111,
             "#46039f"
            ],
            [
             0.2222222222222222,
             "#7201a8"
            ],
            [
             0.3333333333333333,
             "#9c179e"
            ],
            [
             0.4444444444444444,
             "#bd3786"
            ],
            [
             0.5555555555555556,
             "#d8576b"
            ],
            [
             0.6666666666666666,
             "#ed7953"
            ],
            [
             0.7777777777777778,
             "#fb9f3a"
            ],
            [
             0.8888888888888888,
             "#fdca26"
            ],
            [
             1,
             "#f0f921"
            ]
           ]
          },
          "colorway": [
           "#636efa",
           "#EF553B",
           "#00cc96",
           "#ab63fa",
           "#FFA15A",
           "#19d3f3",
           "#FF6692",
           "#B6E880",
           "#FF97FF",
           "#FECB52"
          ],
          "font": {
           "color": "#2a3f5f"
          },
          "geo": {
           "bgcolor": "white",
           "lakecolor": "white",
           "landcolor": "#E5ECF6",
           "showlakes": true,
           "showland": true,
           "subunitcolor": "white"
          },
          "hoverlabel": {
           "align": "left"
          },
          "hovermode": "closest",
          "mapbox": {
           "style": "light"
          },
          "paper_bgcolor": "white",
          "plot_bgcolor": "#E5ECF6",
          "polar": {
           "angularaxis": {
            "gridcolor": "white",
            "linecolor": "white",
            "ticks": ""
           },
           "bgcolor": "#E5ECF6",
           "radialaxis": {
            "gridcolor": "white",
            "linecolor": "white",
            "ticks": ""
           }
          },
          "scene": {
           "xaxis": {
            "backgroundcolor": "#E5ECF6",
            "gridcolor": "white",
            "gridwidth": 2,
            "linecolor": "white",
            "showbackground": true,
            "ticks": "",
            "zerolinecolor": "white"
           },
           "yaxis": {
            "backgroundcolor": "#E5ECF6",
            "gridcolor": "white",
            "gridwidth": 2,
            "linecolor": "white",
            "showbackground": true,
            "ticks": "",
            "zerolinecolor": "white"
           },
           "zaxis": {
            "backgroundcolor": "#E5ECF6",
            "gridcolor": "white",
            "gridwidth": 2,
            "linecolor": "white",
            "showbackground": true,
            "ticks": "",
            "zerolinecolor": "white"
           }
          },
          "shapedefaults": {
           "line": {
            "color": "#2a3f5f"
           }
          },
          "ternary": {
           "aaxis": {
            "gridcolor": "white",
            "linecolor": "white",
            "ticks": ""
           },
           "baxis": {
            "gridcolor": "white",
            "linecolor": "white",
            "ticks": ""
           },
           "bgcolor": "#E5ECF6",
           "caxis": {
            "gridcolor": "white",
            "linecolor": "white",
            "ticks": ""
           }
          },
          "title": {
           "x": 0.05
          },
          "xaxis": {
           "automargin": true,
           "gridcolor": "white",
           "linecolor": "white",
           "ticks": "",
           "title": {
            "standoff": 15
           },
           "zerolinecolor": "white",
           "zerolinewidth": 2
          },
          "yaxis": {
           "automargin": true,
           "gridcolor": "white",
           "linecolor": "white",
           "ticks": "",
           "title": {
            "standoff": 15
           },
           "zerolinecolor": "white",
           "zerolinewidth": 2
          }
         }
        },
        "title": {
         "text": "Movement Profile of Ottavino/Raley/Senga's Sweeper",
         "xanchor": "auto"
        },
        "updatemenus": [
         {
          "buttons": [
           {
            "args": [
             "shapes",
             []
            ],
            "label": "None",
            "method": "relayout"
           },
           {
            "args": [
             "shapes",
             [
              {
               "line": {
                "color": "DarkOrange"
               },
               "type": "circle",
               "x0": 0.84,
               "x1": 1.82,
               "xref": "x",
               "y0": -0.38,
               "y1": 0.68,
               "yref": "y"
              }
             ]
            ],
            "label": "Ottavino",
            "method": "relayout"
           },
           {
            "args": [
             "shapes",
             [
              {
               "line": {
                "color": "Crimson"
               },
               "type": "circle",
               "x0": -1.92,
               "x1": -1.03,
               "xref": "x",
               "y0": -0.26,
               "y1": 0.75,
               "yref": "y"
              }
             ]
            ],
            "label": "Raley",
            "method": "relayout"
           },
           {
            "args": [
             "shapes",
             [
              {
               "line": {
                "color": "Blue"
               },
               "type": "circle",
               "x0": 0.47,
               "x1": 1.57,
               "xref": "x",
               "y0": -0.58,
               "y1": 0.34,
               "yref": "y"
              }
             ]
            ],
            "label": "Senga",
            "method": "relayout"
           },
           {
            "args": [
             "shapes",
             [
              {
               "line": {
                "color": "DarkOrange"
               },
               "type": "circle",
               "x0": 0.84,
               "x1": 1.82,
               "xref": "x",
               "y0": -0.38,
               "y1": 0.68,
               "yref": "y"
              },
              {
               "line": {
                "color": "Crimson"
               },
               "type": "circle",
               "x0": -1.92,
               "x1": -1.03,
               "xref": "x",
               "y0": -0.26,
               "y1": 0.75,
               "yref": "y"
              },
              {
               "line": {
                "color": "Blue"
               },
               "type": "circle",
               "x0": 0.47,
               "x1": 1.57,
               "xref": "x",
               "y0": -0.58,
               "y1": 0.34,
               "yref": "y"
              }
             ]
            ],
            "label": "All",
            "method": "relayout"
           }
          ]
         }
        ],
        "xaxis": {
         "title": {
          "text": "pfx_x"
         }
        },
        "yaxis": {
         "title": {
          "text": "pfx_z"
         }
        }
       }
      },
      "text/html": [
       "<div>                            <div id=\"001d1c47-af67-4d3f-9145-ae48fd1052a4\" class=\"plotly-graph-div\" style=\"height:525px; width:100%;\"></div>            <script type=\"text/javascript\">                require([\"plotly\"], function(Plotly) {                    window.PLOTLYENV=window.PLOTLYENV || {};                                    if (document.getElementById(\"001d1c47-af67-4d3f-9145-ae48fd1052a4\")) {                    Plotly.newPlot(                        \"001d1c47-af67-4d3f-9145-ae48fd1052a4\",                        [{\"marker\":{\"color\":\"DarkOrange\"},\"mode\":\"markers\",\"x\":[1.64,1.6,1.69,1.82,1.52,0.99,1.33,1.04,1.35,1.62,1.43,0.92,1.13,0.84,0.87,1.59,1.47,1.52,1.46,1.16,1.56,1.16,0.93,1.59,1.63,1.8,1.36,1.5,1.61,1.25,1.31,1.54,1.22],\"y\":[0.31,-0.38,0.4,0.11,0.01,-0.22,0.44,0.07,0.25,0.68,0.07,0.19,0.47,0.24,0.15,0.18,0.27,-0.01,0.45,0.22,0.58,0.02,-0.11,0.2,0.54,0.24,0.3,0.26,0.14,-0.05,0.13,0.59,0.21],\"type\":\"scatter\"},{\"marker\":{\"color\":\"Crimson\"},\"mode\":\"markers\",\"x\":[-1.75,-1.85,-1.28,-1.34,-1.56,-1.32,-1.77,-1.53,-1.32,-1.16,-1.46,-1.37,-1.27,-1.62,-1.59,-1.84,-1.47,-1.53,-1.52,-1.51,-1.55,-1.11,-1.47,-1.03,-1.23,-1.66,-1.32,-1.43,-1.06,-1.47,-1.8,-1.76,-1.92,-1.36],\"y\":[0.75,-0.03,0.11,0.25,0.13,0.17,0.39,-0.26,-0.05,0.35,0.15,0.28,0.33,-0.22,0.2,0.3,0.24,-0.16,0.47,0.01,0.48,0.1,-0.15,0.43,0.33,0.04,0.26,0.32,0.56,0.33,0.4,0.39,0.26,0.21],\"type\":\"scatter\"},{\"marker\":{\"color\":\"Blue\"},\"mode\":\"markers\",\"x\":[0.94,0.82,1.36,0.97,1.22,1.23,0.99,0.94,0.81,1.05,1.07,1.28,1.31,0.94,1.19,0.85,0.81,0.99,1.4,1.33,1.31,1.14,1.36,1.36,1.45,1.32,1.3,0.66,1.57,0.88,1.49,0.9,1.01,1.38,1.5,1.08,1.07,1.47,0.47,1.28,0.76,0.82,1.45,0.95,1.52,1.46,1.3,1.48,1.4,1.3,1.36,1.4,1.19,1.07],\"y\":[-0.06,-0.09,0.15,0.21,-0.12,0.06,0.09,0.34,0.28,-0.24,-0.32,-0.34,-0.27,-0.11,-0.22,0.09,0.21,-0.57,-0.09,-0.06,-0.14,0.11,-0.58,-0.23,-0.28,-0.17,0.1,-0.43,0.12,-0.07,-0.1,0.14,-0.09,-0.21,-0.24,-0.15,0.14,-0.22,-0.07,-0.05,-0.25,-0.28,-0.37,-0.45,-0.32,-0.08,-0.26,-0.41,-0.17,-0.09,-0.13,-0.52,-0.56,-0.37],\"type\":\"scatter\"}],                        {\"template\":{\"data\":{\"histogram2dcontour\":[{\"type\":\"histogram2dcontour\",\"colorbar\":{\"outlinewidth\":0,\"ticks\":\"\"},\"colorscale\":[[0.0,\"#0d0887\"],[0.1111111111111111,\"#46039f\"],[0.2222222222222222,\"#7201a8\"],[0.3333333333333333,\"#9c179e\"],[0.4444444444444444,\"#bd3786\"],[0.5555555555555556,\"#d8576b\"],[0.6666666666666666,\"#ed7953\"],[0.7777777777777778,\"#fb9f3a\"],[0.8888888888888888,\"#fdca26\"],[1.0,\"#f0f921\"]]}],\"choropleth\":[{\"type\":\"choropleth\",\"colorbar\":{\"outlinewidth\":0,\"ticks\":\"\"}}],\"histogram2d\":[{\"type\":\"histogram2d\",\"colorbar\":{\"outlinewidth\":0,\"ticks\":\"\"},\"colorscale\":[[0.0,\"#0d0887\"],[0.1111111111111111,\"#46039f\"],[0.2222222222222222,\"#7201a8\"],[0.3333333333333333,\"#9c179e\"],[0.4444444444444444,\"#bd3786\"],[0.5555555555555556,\"#d8576b\"],[0.6666666666666666,\"#ed7953\"],[0.7777777777777778,\"#fb9f3a\"],[0.8888888888888888,\"#fdca26\"],[1.0,\"#f0f921\"]]}],\"heatmap\":[{\"type\":\"heatmap\",\"colorbar\":{\"outlinewidth\":0,\"ticks\":\"\"},\"colorscale\":[[0.0,\"#0d0887\"],[0.1111111111111111,\"#46039f\"],[0.2222222222222222,\"#7201a8\"],[0.3333333333333333,\"#9c179e\"],[0.4444444444444444,\"#bd3786\"],[0.5555555555555556,\"#d8576b\"],[0.6666666666666666,\"#ed7953\"],[0.7777777777777778,\"#fb9f3a\"],[0.8888888888888888,\"#fdca26\"],[1.0,\"#f0f921\"]]}],\"heatmapgl\":[{\"type\":\"heatmapgl\",\"colorbar\":{\"outlinewidth\":0,\"ticks\":\"\"},\"colorscale\":[[0.0,\"#0d0887\"],[0.1111111111111111,\"#46039f\"],[0.2222222222222222,\"#7201a8\"],[0.3333333333333333,\"#9c179e\"],[0.4444444444444444,\"#bd3786\"],[0.5555555555555556,\"#d8576b\"],[0.6666666666666666,\"#ed7953\"],[0.7777777777777778,\"#fb9f3a\"],[0.8888888888888888,\"#fdca26\"],[1.0,\"#f0f921\"]]}],\"contourcarpet\":[{\"type\":\"contourcarpet\",\"colorbar\":{\"outlinewidth\":0,\"ticks\":\"\"}}],\"contour\":[{\"type\":\"contour\",\"colorbar\":{\"outlinewidth\":0,\"ticks\":\"\"},\"colorscale\":[[0.0,\"#0d0887\"],[0.1111111111111111,\"#46039f\"],[0.2222222222222222,\"#7201a8\"],[0.3333333333333333,\"#9c179e\"],[0.4444444444444444,\"#bd3786\"],[0.5555555555555556,\"#d8576b\"],[0.6666666666666666,\"#ed7953\"],[0.7777777777777778,\"#fb9f3a\"],[0.8888888888888888,\"#fdca26\"],[1.0,\"#f0f921\"]]}],\"surface\":[{\"type\":\"surface\",\"colorbar\":{\"outlinewidth\":0,\"ticks\":\"\"},\"colorscale\":[[0.0,\"#0d0887\"],[0.1111111111111111,\"#46039f\"],[0.2222222222222222,\"#7201a8\"],[0.3333333333333333,\"#9c179e\"],[0.4444444444444444,\"#bd3786\"],[0.5555555555555556,\"#d8576b\"],[0.6666666666666666,\"#ed7953\"],[0.7777777777777778,\"#fb9f3a\"],[0.8888888888888888,\"#fdca26\"],[1.0,\"#f0f921\"]]}],\"mesh3d\":[{\"type\":\"mesh3d\",\"colorbar\":{\"outlinewidth\":0,\"ticks\":\"\"}}],\"scatter\":[{\"fillpattern\":{\"fillmode\":\"overlay\",\"size\":10,\"solidity\":0.2},\"type\":\"scatter\"}],\"parcoords\":[{\"type\":\"parcoords\",\"line\":{\"colorbar\":{\"outlinewidth\":0,\"ticks\":\"\"}}}],\"scatterpolargl\":[{\"type\":\"scatterpolargl\",\"marker\":{\"colorbar\":{\"outlinewidth\":0,\"ticks\":\"\"}}}],\"bar\":[{\"error_x\":{\"color\":\"#2a3f5f\"},\"error_y\":{\"color\":\"#2a3f5f\"},\"marker\":{\"line\":{\"color\":\"#E5ECF6\",\"width\":0.5},\"pattern\":{\"fillmode\":\"overlay\",\"size\":10,\"solidity\":0.2}},\"type\":\"bar\"}],\"scattergeo\":[{\"type\":\"scattergeo\",\"marker\":{\"colorbar\":{\"outlinewidth\":0,\"ticks\":\"\"}}}],\"scatterpolar\":[{\"type\":\"scatterpolar\",\"marker\":{\"colorbar\":{\"outlinewidth\":0,\"ticks\":\"\"}}}],\"histogram\":[{\"marker\":{\"pattern\":{\"fillmode\":\"overlay\",\"size\":10,\"solidity\":0.2}},\"type\":\"histogram\"}],\"scattergl\":[{\"type\":\"scattergl\",\"marker\":{\"colorbar\":{\"outlinewidth\":0,\"ticks\":\"\"}}}],\"scatter3d\":[{\"type\":\"scatter3d\",\"line\":{\"colorbar\":{\"outlinewidth\":0,\"ticks\":\"\"}},\"marker\":{\"colorbar\":{\"outlinewidth\":0,\"ticks\":\"\"}}}],\"scattermapbox\":[{\"type\":\"scattermapbox\",\"marker\":{\"colorbar\":{\"outlinewidth\":0,\"ticks\":\"\"}}}],\"scatterternary\":[{\"type\":\"scatterternary\",\"marker\":{\"colorbar\":{\"outlinewidth\":0,\"ticks\":\"\"}}}],\"scattercarpet\":[{\"type\":\"scattercarpet\",\"marker\":{\"colorbar\":{\"outlinewidth\":0,\"ticks\":\"\"}}}],\"carpet\":[{\"aaxis\":{\"endlinecolor\":\"#2a3f5f\",\"gridcolor\":\"white\",\"linecolor\":\"white\",\"minorgridcolor\":\"white\",\"startlinecolor\":\"#2a3f5f\"},\"baxis\":{\"endlinecolor\":\"#2a3f5f\",\"gridcolor\":\"white\",\"linecolor\":\"white\",\"minorgridcolor\":\"white\",\"startlinecolor\":\"#2a3f5f\"},\"type\":\"carpet\"}],\"table\":[{\"cells\":{\"fill\":{\"color\":\"#EBF0F8\"},\"line\":{\"color\":\"white\"}},\"header\":{\"fill\":{\"color\":\"#C8D4E3\"},\"line\":{\"color\":\"white\"}},\"type\":\"table\"}],\"barpolar\":[{\"marker\":{\"line\":{\"color\":\"#E5ECF6\",\"width\":0.5},\"pattern\":{\"fillmode\":\"overlay\",\"size\":10,\"solidity\":0.2}},\"type\":\"barpolar\"}],\"pie\":[{\"automargin\":true,\"type\":\"pie\"}]},\"layout\":{\"autotypenumbers\":\"strict\",\"colorway\":[\"#636efa\",\"#EF553B\",\"#00cc96\",\"#ab63fa\",\"#FFA15A\",\"#19d3f3\",\"#FF6692\",\"#B6E880\",\"#FF97FF\",\"#FECB52\"],\"font\":{\"color\":\"#2a3f5f\"},\"hovermode\":\"closest\",\"hoverlabel\":{\"align\":\"left\"},\"paper_bgcolor\":\"white\",\"plot_bgcolor\":\"#E5ECF6\",\"polar\":{\"bgcolor\":\"#E5ECF6\",\"angularaxis\":{\"gridcolor\":\"white\",\"linecolor\":\"white\",\"ticks\":\"\"},\"radialaxis\":{\"gridcolor\":\"white\",\"linecolor\":\"white\",\"ticks\":\"\"}},\"ternary\":{\"bgcolor\":\"#E5ECF6\",\"aaxis\":{\"gridcolor\":\"white\",\"linecolor\":\"white\",\"ticks\":\"\"},\"baxis\":{\"gridcolor\":\"white\",\"linecolor\":\"white\",\"ticks\":\"\"},\"caxis\":{\"gridcolor\":\"white\",\"linecolor\":\"white\",\"ticks\":\"\"}},\"coloraxis\":{\"colorbar\":{\"outlinewidth\":0,\"ticks\":\"\"}},\"colorscale\":{\"sequential\":[[0.0,\"#0d0887\"],[0.1111111111111111,\"#46039f\"],[0.2222222222222222,\"#7201a8\"],[0.3333333333333333,\"#9c179e\"],[0.4444444444444444,\"#bd3786\"],[0.5555555555555556,\"#d8576b\"],[0.6666666666666666,\"#ed7953\"],[0.7777777777777778,\"#fb9f3a\"],[0.8888888888888888,\"#fdca26\"],[1.0,\"#f0f921\"]],\"sequentialminus\":[[0.0,\"#0d0887\"],[0.1111111111111111,\"#46039f\"],[0.2222222222222222,\"#7201a8\"],[0.3333333333333333,\"#9c179e\"],[0.4444444444444444,\"#bd3786\"],[0.5555555555555556,\"#d8576b\"],[0.6666666666666666,\"#ed7953\"],[0.7777777777777778,\"#fb9f3a\"],[0.8888888888888888,\"#fdca26\"],[1.0,\"#f0f921\"]],\"diverging\":[[0,\"#8e0152\"],[0.1,\"#c51b7d\"],[0.2,\"#de77ae\"],[0.3,\"#f1b6da\"],[0.4,\"#fde0ef\"],[0.5,\"#f7f7f7\"],[0.6,\"#e6f5d0\"],[0.7,\"#b8e186\"],[0.8,\"#7fbc41\"],[0.9,\"#4d9221\"],[1,\"#276419\"]]},\"xaxis\":{\"gridcolor\":\"white\",\"linecolor\":\"white\",\"ticks\":\"\",\"title\":{\"standoff\":15},\"zerolinecolor\":\"white\",\"automargin\":true,\"zerolinewidth\":2},\"yaxis\":{\"gridcolor\":\"white\",\"linecolor\":\"white\",\"ticks\":\"\",\"title\":{\"standoff\":15},\"zerolinecolor\":\"white\",\"automargin\":true,\"zerolinewidth\":2},\"scene\":{\"xaxis\":{\"backgroundcolor\":\"#E5ECF6\",\"gridcolor\":\"white\",\"linecolor\":\"white\",\"showbackground\":true,\"ticks\":\"\",\"zerolinecolor\":\"white\",\"gridwidth\":2},\"yaxis\":{\"backgroundcolor\":\"#E5ECF6\",\"gridcolor\":\"white\",\"linecolor\":\"white\",\"showbackground\":true,\"ticks\":\"\",\"zerolinecolor\":\"white\",\"gridwidth\":2},\"zaxis\":{\"backgroundcolor\":\"#E5ECF6\",\"gridcolor\":\"white\",\"linecolor\":\"white\",\"showbackground\":true,\"ticks\":\"\",\"zerolinecolor\":\"white\",\"gridwidth\":2}},\"shapedefaults\":{\"line\":{\"color\":\"#2a3f5f\"}},\"annotationdefaults\":{\"arrowcolor\":\"#2a3f5f\",\"arrowhead\":0,\"arrowwidth\":1},\"geo\":{\"bgcolor\":\"white\",\"landcolor\":\"#E5ECF6\",\"subunitcolor\":\"white\",\"showland\":true,\"showlakes\":true,\"lakecolor\":\"white\"},\"title\":{\"x\":0.05},\"mapbox\":{\"style\":\"light\"}}},\"updatemenus\":[{\"buttons\":[{\"args\":[\"shapes\",[]],\"label\":\"None\",\"method\":\"relayout\"},{\"args\":[\"shapes\",[{\"type\":\"circle\",\"xref\":\"x\",\"yref\":\"y\",\"x0\":0.84,\"y0\":-0.38,\"x1\":1.82,\"y1\":0.68,\"line\":{\"color\":\"DarkOrange\"}}]],\"label\":\"Ottavino\",\"method\":\"relayout\"},{\"args\":[\"shapes\",[{\"type\":\"circle\",\"xref\":\"x\",\"yref\":\"y\",\"x0\":-1.92,\"y0\":-0.26,\"x1\":-1.03,\"y1\":0.75,\"line\":{\"color\":\"Crimson\"}}]],\"label\":\"Raley\",\"method\":\"relayout\"},{\"args\":[\"shapes\",[{\"type\":\"circle\",\"xref\":\"x\",\"yref\":\"y\",\"x0\":0.47,\"y0\":-0.58,\"x1\":1.57,\"y1\":0.34,\"line\":{\"color\":\"Blue\"}}]],\"label\":\"Senga\",\"method\":\"relayout\"},{\"args\":[\"shapes\",[{\"type\":\"circle\",\"xref\":\"x\",\"yref\":\"y\",\"x0\":0.84,\"y0\":-0.38,\"x1\":1.82,\"y1\":0.68,\"line\":{\"color\":\"DarkOrange\"}},{\"type\":\"circle\",\"xref\":\"x\",\"yref\":\"y\",\"x0\":-1.92,\"y0\":-0.26,\"x1\":-1.03,\"y1\":0.75,\"line\":{\"color\":\"Crimson\"}},{\"type\":\"circle\",\"xref\":\"x\",\"yref\":\"y\",\"x0\":0.47,\"y0\":-0.58,\"x1\":1.57,\"y1\":0.34,\"line\":{\"color\":\"Blue\"}}]],\"label\":\"All\",\"method\":\"relayout\"}]}],\"title\":{\"text\":\"Movement Profile of Ottavino/Raley/Senga's Sweeper\",\"xanchor\":\"auto\"},\"showlegend\":false,\"xaxis\":{\"title\":{\"text\":\"pfx_x\"}},\"yaxis\":{\"title\":{\"text\":\"pfx_z\"}}},                        {\"responsive\": true}                    ).then(function(){\n",
       "                            \n",
       "var gd = document.getElementById('001d1c47-af67-4d3f-9145-ae48fd1052a4');\n",
       "var x = new MutationObserver(function (mutations, observer) {{\n",
       "        var display = window.getComputedStyle(gd).display;\n",
       "        if (!display || display === 'none') {{\n",
       "            console.log([gd, 'removed!']);\n",
       "            Plotly.purge(gd);\n",
       "            observer.disconnect();\n",
       "        }}\n",
       "}});\n",
       "\n",
       "// Listen for the removal of the full notebook cells\n",
       "var notebookContainer = gd.closest('#notebook-container');\n",
       "if (notebookContainer) {{\n",
       "    x.observe(notebookContainer, {childList: true});\n",
       "}}\n",
       "\n",
       "// Listen for the clearing of the current output cell\n",
       "var outputEl = gd.closest('.output');\n",
       "if (outputEl) {{\n",
       "    x.observe(outputEl, {childList: true});\n",
       "}}\n",
       "\n",
       "                        })                };                });            </script>        </div>"
      ]
     },
     "metadata": {},
     "output_type": "display_data"
    }
   ],
   "source": [
    "#Spitting the df into three, by player\n",
    "Ottavino = sliders[sliders['player_name']== 'Ottavino, Adam']\n",
    "Raley = sliders[sliders['player_name']== 'Raley, Brooks']\n",
    "Senga = sliders[sliders['player_name']== 'Senga, Kodai']\n",
    "\n",
    "import plotly.graph_objects as go\n",
    "\n",
    "# Generate datasets\n",
    "\n",
    "x0 = Ottavino['pfx_x'] \n",
    "y0 = Ottavino['pfx_z'] \n",
    "x1 = Raley['pfx_x'] \n",
    "y1 = Raley['pfx_z'] \n",
    "x2 = Senga['pfx_x'] \n",
    "y2 = Senga['pfx_z'] \n",
    "\n",
    "# Create figure\n",
    "fig = go.Figure()\n",
    "\n",
    "# Add traces\n",
    "fig.add_trace(\n",
    "    go.Scatter(\n",
    "        x=x0,\n",
    "        y=y0,\n",
    "        mode=\"markers\",\n",
    "        marker=dict(color=\"DarkOrange\")\n",
    "    )\n",
    ")\n",
    "\n",
    "fig.add_trace(\n",
    "    go.Scatter(\n",
    "        x=x1,\n",
    "        y=y1,\n",
    "        mode=\"markers\",\n",
    "        marker=dict(color=\"Crimson\")\n",
    "    )\n",
    ")\n",
    "\n",
    "fig.add_trace(\n",
    "    go.Scatter(\n",
    "        x=x2,\n",
    "        y=y2,\n",
    "        mode=\"markers\",\n",
    "        marker=dict(color=\"Blue\")\n",
    "    )\n",
    ")\n",
    "\n",
    "# Add buttons that add shapes\n",
    "Ottavino = [dict(type=\"circle\",\n",
    "                            xref=\"x\", yref=\"y\",\n",
    "                            x0=min(x0), y0=min(y0),\n",
    "                            x1=max(x0), y1=max(y0),\n",
    "                            line=dict(color=\"DarkOrange\"))]\n",
    "Raley = [dict(type=\"circle\",\n",
    "                            xref=\"x\", yref=\"y\",\n",
    "                            x0=min(x1), y0=min(y1),\n",
    "                            x1=max(x1), y1=max(y1),\n",
    "                            line=dict(color=\"Crimson\"))]\n",
    "Senga = [dict(type=\"circle\",\n",
    "                            xref=\"x\", yref=\"y\",\n",
    "                            x0=min(x2), y0=min(y2),\n",
    "                            x1=max(x2), y1=max(y2),\n",
    "                            line=dict(color=\"Blue\"))]\n",
    "#Making a drop-down & assigning each player to each category  \n",
    "fig.update_layout(\n",
    "    updatemenus=[\n",
    "        dict(buttons=list([\n",
    "            dict(label=\"None\",\n",
    "                 method=\"relayout\",\n",
    "                 args=[\"shapes\", []]),\n",
    "            dict(label=\"Ottavino\",\n",
    "                 method=\"relayout\",\n",
    "                 args=[\"shapes\", Ottavino]),\n",
    "            dict(label=\"Raley\",\n",
    "                 method=\"relayout\",\n",
    "                 args=[\"shapes\", Raley]),\n",
    "            dict(label=\"Senga\",\n",
    "                 method=\"relayout\",\n",
    "                 args=[\"shapes\", Senga]),\n",
    "            dict(label=\"All\",\n",
    "                 method=\"relayout\",\n",
    "                 args=[\"shapes\", Ottavino + Raley + Senga])\n",
    "        ]),\n",
    "        )\n",
    "    ]\n",
    ")\n",
    "\n",
    "# Update remaining layout properties\n",
    "fig.update_layout(\n",
    "    title_text=\"Movement Profile of Ottavino/Raley/Senga's Sweeper\",\n",
    "    title_xanchor = 'auto',\n",
    "    showlegend=False,\n",
    "    xaxis_title = \"pfx_x\",\n",
    "    yaxis_title = \"pfx_z\"\n",
    "\n",
    ")\n",
    "\n",
    "fig.show()"
   ]
  },
  {
   "cell_type": "code",
   "execution_count": 6,
   "id": "19630130",
   "metadata": {},
   "outputs": [],
   "source": [
    "#Imports the necessary packages for export \n",
    "import chart_studio.plotly as py\n",
    "import chart_studio.tools\n"
   ]
  },
  {
   "cell_type": "code",
   "execution_count": 7,
   "id": "8d47f915",
   "metadata": {},
   "outputs": [
    {
     "data": {
      "text/plain": [
       "'https://plotly.com/~mancusom33/48/'"
      ]
     },
     "execution_count": 7,
     "metadata": {},
     "output_type": "execute_result"
    }
   ],
   "source": [
    "py.plot(fig, filename = 'Sweeper_Movement', auto_open=False)"
   ]
  }
 ],
 "metadata": {
  "kernelspec": {
   "display_name": "Python 3",
   "language": "python",
   "name": "python3"
  },
  "language_info": {
   "codemirror_mode": {
    "name": "ipython",
    "version": 3
   },
   "file_extension": ".py",
   "mimetype": "text/x-python",
   "name": "python",
   "nbconvert_exporter": "python",
   "pygments_lexer": "ipython3",
   "version": "3.7.4"
  }
 },
 "nbformat": 4,
 "nbformat_minor": 5
}
